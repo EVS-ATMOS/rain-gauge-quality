{
 "cells": [
  {
   "cell_type": "markdown",
   "id": "0e3cc2dc-845d-4e8f-9e3e-8d7cc626b26a",
   "metadata": {},
   "source": [
    "# Rain Gauge Quality - Ambients"
   ]
  },
  {
   "cell_type": "markdown",
   "id": "49e09af0-f4e0-4141-813a-0c7908e3727f",
   "metadata": {},
   "source": [
    "## Imports"
   ]
  },
  {
   "cell_type": "code",
   "execution_count": 1,
   "id": "8a9720de-dafb-436f-aaf1-c2d471ac4284",
   "metadata": {
    "tags": []
   },
   "outputs": [],
   "source": [
    "import numpy as np\n",
    "import xarray as xr\n",
    "import pandas as pd\n",
    "import matplotlib.pyplot as plt"
   ]
  },
  {
   "cell_type": "code",
   "execution_count": null,
   "id": "dafab754-32d8-4a46-bdf0-3b78691f77be",
   "metadata": {},
   "outputs": [],
   "source": []
  }
 ],
 "metadata": {
  "kernelspec": {
   "display_name": "Python 3 (ipykernel)",
   "language": "python",
   "name": "python3"
  },
  "language_info": {
   "codemirror_mode": {
    "name": "ipython",
    "version": 3
   },
   "file_extension": ".py",
   "mimetype": "text/x-python",
   "name": "python",
   "nbconvert_exporter": "python",
   "pygments_lexer": "ipython3",
   "version": "3.11.4"
  }
 },
 "nbformat": 4,
 "nbformat_minor": 5
}
