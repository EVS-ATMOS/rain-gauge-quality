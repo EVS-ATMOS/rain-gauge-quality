{
 "cells": [
  {
   "cell_type": "markdown",
   "id": "6aebd924-628f-46a9-8b7a-8d728d3b1a80",
   "metadata": {},
   "source": [
    "# Rain Gauge Quality Comparison - Research Grade Rain Gauges"
   ]
  },
  {
   "cell_type": "markdown",
   "id": "951d7c7f-17e8-454b-80e2-a3f83799722d",
   "metadata": {},
   "source": [
    "## Import libraries"
   ]
  },
  {
   "cell_type": "code",
   "execution_count": 1,
   "id": "9f538c65-4268-426a-92a8-9434da9b8178",
   "metadata": {},
   "outputs": [],
   "source": [
    "import numpy as np\n",
    "import pandas as pd\n",
    "import xarray as xr \n",
    "import matplotlib.pyplot as plt"
   ]
  },
  {
   "cell_type": "code",
   "execution_count": null,
   "id": "638a21de-05e0-4027-b5a1-7ef6534510e4",
   "metadata": {},
   "outputs": [],
   "source": []
  }
 ],
 "metadata": {
  "kernelspec": {
   "display_name": "Python 3 (ipykernel)",
   "language": "python",
   "name": "python3"
  },
  "language_info": {
   "codemirror_mode": {
    "name": "ipython",
    "version": 3
   },
   "file_extension": ".py",
   "mimetype": "text/x-python",
   "name": "python",
   "nbconvert_exporter": "python",
   "pygments_lexer": "ipython3",
   "version": "3.9.12"
  }
 },
 "nbformat": 4,
 "nbformat_minor": 5
}
